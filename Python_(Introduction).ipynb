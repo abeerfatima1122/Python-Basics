{
  "nbformat": 4,
  "nbformat_minor": 0,
  "metadata": {
    "colab": {
      "provenance": []
    },
    "kernelspec": {
      "name": "python3",
      "display_name": "Python 3"
    },
    "language_info": {
      "name": "python"
    }
  },
  "cells": [
    {
      "cell_type": "markdown",
      "source": [
        "**Python was created by Guido van Rossum, and first released on February 20, 1991. While you may know the python as a large snake, the name of the Python programming language comes from an old BBC television comedy sketch series called Monty Python's Flying Circus.**"
      ],
      "metadata": {
        "id": "PExODfLbvw2t"
      }
    },
    {
      "cell_type": "code",
      "execution_count": 1,
      "metadata": {
        "colab": {
          "base_uri": "https://localhost:8080/"
        },
        "id": "9Vxd-aM4tU3e",
        "outputId": "50829554-a8fd-45d8-9a2e-50c34cc132a8"
      },
      "outputs": [
        {
          "output_type": "stream",
          "name": "stdout",
          "text": [
            "this is my first lab\n"
          ]
        }
      ],
      "source": [
        "print(\"this is my first lab\")"
      ]
    },
    {
      "cell_type": "code",
      "source": [
        "x=3\n",
        "print(x)"
      ],
      "metadata": {
        "colab": {
          "base_uri": "https://localhost:8080/"
        },
        "id": "EaIyjNLKtiZe",
        "outputId": "ce838342-11a2-41e8-f5af-a55736cb60ae"
      },
      "execution_count": 3,
      "outputs": [
        {
          "output_type": "stream",
          "name": "stdout",
          "text": [
            "3\n"
          ]
        }
      ]
    },
    {
      "cell_type": "code",
      "source": [
        "x=3\n",
        "print(x*2)"
      ],
      "metadata": {
        "colab": {
          "base_uri": "https://localhost:8080/"
        },
        "id": "B_exBhFjtlGm",
        "outputId": "fa784e7a-8272-4bf5-e878-167fdde1e22b"
      },
      "execution_count": 4,
      "outputs": [
        {
          "output_type": "stream",
          "name": "stdout",
          "text": [
            "6\n"
          ]
        }
      ]
    },
    {
      "cell_type": "code",
      "source": [
        "a = int(input('Enter 1st num: '))\n",
        "b = int(input('Enter 2nd num: '))\n",
        "\n",
        "print('Add: ', a + b)\n",
        "print('Sub: ', a - b)\n",
        "print('Multi: ', a * b)\n",
        "print('Div: ', a / b)"
      ],
      "metadata": {
        "colab": {
          "base_uri": "https://localhost:8080/"
        },
        "id": "69NYOwwdui6D",
        "outputId": "6335a676-b614-4137-a875-62ec9e217a5b"
      },
      "execution_count": 5,
      "outputs": [
        {
          "output_type": "stream",
          "name": "stdout",
          "text": [
            "Enter 1st num: 5\n",
            "Enter 2nd num: 8\n",
            "Add:  13\n",
            "Sub:  -3\n",
            "Multi:  40\n",
            "Div:  0.625\n"
          ]
        }
      ]
    },
    {
      "cell_type": "code",
      "source": [
        "a = int(input('English: '))\n",
        "b = int(input('Computer science: '))\n",
        "c = int(input('Basic Electronics: '))\n",
        "d = int(input('Mathematics: '))\n",
        "\n",
        "total_marks = int(input('Enter total num: '))\n",
        "\n",
        "marks_obtain = a + b + c + d\n",
        "\n",
        "print('Total marks obtain:', marks_obtain)\n",
        "\n",
        "percentage = (marks_obtain / total_marks) * 100\n",
        "print('Your percentage is: ', percentage)"
      ],
      "metadata": {
        "colab": {
          "base_uri": "https://localhost:8080/"
        },
        "id": "l3SeM4KDulUr",
        "outputId": "90c06f86-7c26-4f71-bcee-e93934a32856"
      },
      "execution_count": 6,
      "outputs": [
        {
          "output_type": "stream",
          "name": "stdout",
          "text": [
            "English: 91\n",
            "Computer science: 98\n",
            "Basic Electronics: 87\n",
            "Mathematics: 80\n",
            "Enter total num: 400\n",
            "Total marks obtain: 356\n",
            "Your percentage is:  89.0\n"
          ]
        }
      ]
    },
    {
      "cell_type": "code",
      "source": [
        "# \\n: Newline - inserts a newline character\n",
        "print(\"Hello\\nWorld\")"
      ],
      "metadata": {
        "colab": {
          "base_uri": "https://localhost:8080/"
        },
        "id": "CR8flCbRvNPs",
        "outputId": "acc9a582-2e29-486d-b6b1-d1fbce36659c"
      },
      "execution_count": 7,
      "outputs": [
        {
          "output_type": "stream",
          "name": "stdout",
          "text": [
            "Hello\n",
            "World\n"
          ]
        }
      ]
    },
    {
      "cell_type": "code",
      "source": [
        "# \\t: Tab - inserts a tab character\n",
        "print(\"Hello\\tWorld\")"
      ],
      "metadata": {
        "colab": {
          "base_uri": "https://localhost:8080/"
        },
        "id": "s_4zdyM2vN3V",
        "outputId": "02ecbb43-0123-4d0a-da80-957ac0b7aa23"
      },
      "execution_count": 8,
      "outputs": [
        {
          "output_type": "stream",
          "name": "stdout",
          "text": [
            "Hello\tWorld\n"
          ]
        }
      ]
    }
  ]
}