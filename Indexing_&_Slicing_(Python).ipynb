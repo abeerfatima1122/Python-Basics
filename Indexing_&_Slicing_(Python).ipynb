{
  "nbformat": 4,
  "nbformat_minor": 0,
  "metadata": {
    "colab": {
      "provenance": []
    },
    "kernelspec": {
      "name": "python3",
      "display_name": "Python 3"
    },
    "language_info": {
      "name": "python"
    }
  },
  "cells": [
    {
      "cell_type": "code",
      "execution_count": 1,
      "metadata": {
        "colab": {
          "base_uri": "https://localhost:8080/"
        },
        "id": "mjpPefm1Gk1D",
        "outputId": "0ab53c7f-4472-48d7-bb6f-af0687d3b4da"
      },
      "outputs": [
        {
          "output_type": "stream",
          "name": "stdout",
          "text": [
            "Code Chronicle\n",
            " \n",
            "r\n",
            "e\n"
          ]
        }
      ],
      "source": [
        "name = \"Code Chronicle\"  # assigning name\n",
        "print(name)\n",
        "print(name[4])  # recalling letters from the name\n",
        "print(name[7])  # recalling letters from the name\n",
        "print(name[-1])  # recalling from right to left"
      ]
    },
    {
      "cell_type": "code",
      "source": [
        "# Slicing s[Start:Stop:Step]\n",
        "print(name[1:7])\n",
        "print(name[0:7:2])\n",
        "print(name[-5:-9:-2])\n",
        "print(name[::-1])"
      ],
      "metadata": {
        "colab": {
          "base_uri": "https://localhost:8080/"
        },
        "id": "Hgp4axPRGqNM",
        "outputId": "2b00b1d4-5326-4347-b476-401ddda7536f"
      },
      "execution_count": 2,
      "outputs": [
        {
          "output_type": "stream",
          "name": "stdout",
          "text": [
            "ode Ch\n",
            "Cd h\n",
            "nr\n",
            "elcinorhC edoC\n"
          ]
        }
      ]
    }
  ]
}