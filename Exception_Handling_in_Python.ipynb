{
  "nbformat": 4,
  "nbformat_minor": 0,
  "metadata": {
    "colab": {
      "provenance": []
    },
    "kernelspec": {
      "name": "python3",
      "display_name": "Python 3"
    },
    "language_info": {
      "name": "python"
    }
  },
  "cells": [
    {
      "cell_type": "code",
      "execution_count": 2,
      "metadata": {
        "colab": {
          "base_uri": "https://localhost:8080/"
        },
        "id": "vwhldcmyRs1f",
        "outputId": "bb7d1a74-e0ea-433d-c612-0593dcfe559a"
      },
      "outputs": [
        {
          "output_type": "stream",
          "name": "stdout",
          "text": [
            "Enter first num: 4\n",
            "Enter second num: 0\n",
            "Can't divide to zero...!\n",
            "Hello\n"
          ]
        }
      ],
      "source": [
        "a = int(input('Enter first num: '))\n",
        "b = int(input('Enter second num: '))\n",
        "\n",
        "try:\n",
        "    c = a / b  # Suspicious code\n",
        "    print('Result:', c)\n",
        "except:\n",
        "    print(\"Can't divide to zero...!\")\n",
        "    print('Hello')\n"
      ]
    }
  ]
}