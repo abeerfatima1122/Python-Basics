{
  "nbformat": 4,
  "nbformat_minor": 0,
  "metadata": {
    "colab": {
      "provenance": []
    },
    "kernelspec": {
      "name": "python3",
      "display_name": "Python 3"
    },
    "language_info": {
      "name": "python"
    }
  },
  "cells": [
    {
      "cell_type": "markdown",
      "source": [
        "#**Integer: 3, 300, 200**\n",
        "\n",
        "**Memory Consumption: Typically 28 bytes (may vary based on the integer size)**"
      ],
      "metadata": {
        "id": "eFQd_2odxiyj"
      }
    },
    {
      "cell_type": "code",
      "execution_count": 2,
      "metadata": {
        "colab": {
          "base_uri": "https://localhost:8080/"
        },
        "id": "kdc1c_iorKHi",
        "outputId": "99479880-0382-4b6c-9f1e-80cdfd346e35"
      },
      "outputs": [
        {
          "output_type": "stream",
          "name": "stdout",
          "text": [
            "3\n"
          ]
        }
      ],
      "source": [
        "x = 3\n",
        "print(x)"
      ]
    },
    {
      "cell_type": "markdown",
      "source": [
        "#**Float: 2.3, 4.6, 100.0**\n",
        "\n",
        "**Memory Consumption: Typically 24 bytes**"
      ],
      "metadata": {
        "id": "pa0bBW8IxjFQ"
      }
    },
    {
      "cell_type": "code",
      "source": [
        "x = 0.5\n",
        "print(x)"
      ],
      "metadata": {
        "colab": {
          "base_uri": "https://localhost:8080/"
        },
        "id": "XOdbUwn6yL0J",
        "outputId": "00c0ebdf-3cdb-491c-ecc3-6573c738f62d"
      },
      "execution_count": 1,
      "outputs": [
        {
          "output_type": "stream",
          "name": "stdout",
          "text": [
            "0.5\n"
          ]
        }
      ]
    },
    {
      "cell_type": "markdown",
      "source": [
        "#**String: 'hello', '200', '@#%'**\n",
        "\n",
        "**Memory Consumption: The size depends on the length of the string**"
      ],
      "metadata": {
        "id": "zGgYEo2HxjIn"
      }
    },
    {
      "cell_type": "code",
      "source": [
        "print ('Hello')"
      ],
      "metadata": {
        "colab": {
          "base_uri": "https://localhost:8080/"
        },
        "id": "bt-XtmFWyZsl",
        "outputId": "2cc7f0f4-d3f2-4a5f-c227-42a338e71eef"
      },
      "execution_count": 3,
      "outputs": [
        {
          "output_type": "stream",
          "name": "stdout",
          "text": [
            "Hello\n"
          ]
        }
      ]
    },
    {
      "cell_type": "markdown",
      "source": [
        "#**BOOL : logical value indicating true (1) or false (0)**\n",
        "\n",
        "**Memory Consumption : usually around 28 bytes.**"
      ],
      "metadata": {
        "id": "7r8y2KEDyx0R"
      }
    },
    {
      "cell_type": "code",
      "source": [
        "print (True)"
      ],
      "metadata": {
        "colab": {
          "base_uri": "https://localhost:8080/"
        },
        "id": "9x0BQpp_y69r",
        "outputId": "95090abb-b9d4-4a57-c3f4-ed34b2a996e9"
      },
      "execution_count": 6,
      "outputs": [
        {
          "output_type": "stream",
          "name": "stdout",
          "text": [
            "True\n"
          ]
        }
      ]
    },
    {
      "cell_type": "code",
      "source": [
        "print (True+True)"
      ],
      "metadata": {
        "colab": {
          "base_uri": "https://localhost:8080/"
        },
        "id": "eGAfS7KYy8Ri",
        "outputId": "50004b36-c71d-4249-fca0-c1ad827ad7a1"
      },
      "execution_count": 7,
      "outputs": [
        {
          "output_type": "stream",
          "name": "stdout",
          "text": [
            "2\n"
          ]
        }
      ]
    },
    {
      "cell_type": "code",
      "source": [
        "a='abeer'\n",
        "print (bool(a))"
      ],
      "metadata": {
        "colab": {
          "base_uri": "https://localhost:8080/"
        },
        "id": "pS4bSG0IzBSE",
        "outputId": "a73bf60e-3f0e-44a7-9d08-dcf1a2a72db5"
      },
      "execution_count": 8,
      "outputs": [
        {
          "output_type": "stream",
          "name": "stdout",
          "text": [
            "True\n"
          ]
        }
      ]
    },
    {
      "cell_type": "code",
      "source": [
        "a=''\n",
        "print (bool(a))"
      ],
      "metadata": {
        "colab": {
          "base_uri": "https://localhost:8080/"
        },
        "id": "bEe6EcpQzJh-",
        "outputId": "3fff8e99-dabf-4a32-fac1-907a215ceb5f"
      },
      "execution_count": 9,
      "outputs": [
        {
          "output_type": "stream",
          "name": "stdout",
          "text": [
            "False\n"
          ]
        }
      ]
    },
    {
      "cell_type": "markdown",
      "source": [
        "#**List [ ] : changeable , allow duplicate values**\n",
        "\n",
        "**Memory Consumption : The size depends on the number of elements in the list**"
      ],
      "metadata": {
        "id": "9u61e6tlzR3r"
      }
    },
    {
      "cell_type": "code",
      "source": [
        "a=('mango','tomato','strawberry')\n",
        "print(a)\n",
        "('mango', 'tomato', 'strawberry')"
      ],
      "metadata": {
        "id": "YunMP3-UzNmU"
      },
      "execution_count": null,
      "outputs": []
    },
    {
      "cell_type": "code",
      "source": [
        "b=('1','2','3')\n",
        "print(b)\n",
        "('1', '2', '3')"
      ],
      "metadata": {
        "id": "7_Tck6bxz1jv"
      },
      "execution_count": null,
      "outputs": []
    },
    {
      "cell_type": "code",
      "source": [
        "c=(25,26,27)\n",
        "print(c)\n",
        "(25, 26, 27)"
      ],
      "metadata": {
        "id": "1ZMrZ1NKz2We"
      },
      "execution_count": null,
      "outputs": []
    },
    {
      "cell_type": "markdown",
      "source": [
        "#**set: {}**\n",
        "\n",
        "**Memory Consumption : The size depends on the number of key-value pairs.**\n"
      ],
      "metadata": {
        "id": "fCEOEOzCz7-r"
      }
    },
    {
      "cell_type": "code",
      "source": [
        "set1 = {1, 2, 3}  # union\n",
        "set2 = {3, 4, 5}\n",
        "union_set = set1.union(set2)\n",
        "union_set\n"
      ],
      "metadata": {
        "colab": {
          "base_uri": "https://localhost:8080/"
        },
        "id": "5zpYIO7V0suH",
        "outputId": "05275a9c-49bb-4b07-a3ef-f35333aa4f13"
      },
      "execution_count": 10,
      "outputs": [
        {
          "output_type": "execute_result",
          "data": {
            "text/plain": [
              "{1, 2, 3, 4, 5}"
            ]
          },
          "metadata": {},
          "execution_count": 10
        }
      ]
    },
    {
      "cell_type": "code",
      "source": [
        "set1 = {1, 2, 3}  # common values\n",
        "set2 = {3, 4, 5}\n",
        "common = set1.intersection(set2)\n",
        "common\n"
      ],
      "metadata": {
        "colab": {
          "base_uri": "https://localhost:8080/"
        },
        "id": "4A1QYlh00tK7",
        "outputId": "6c65507b-e34e-4b9c-b5ff-37ed99c26296"
      },
      "execution_count": 11,
      "outputs": [
        {
          "output_type": "execute_result",
          "data": {
            "text/plain": [
              "{3}"
            ]
          },
          "metadata": {},
          "execution_count": 11
        }
      ]
    },
    {
      "cell_type": "code",
      "source": [
        "set1 = {1, 2, 3}  # it will give you value that are unique to set1 and not found in set2\n",
        "set2 = {3, 4, 5}\n",
        "common = set1.difference(set2)\n",
        "common"
      ],
      "metadata": {
        "colab": {
          "base_uri": "https://localhost:8080/"
        },
        "id": "H8fg7z-80wPF",
        "outputId": "c83c89c6-a2ce-46c0-f3fa-1871c2c06a73"
      },
      "execution_count": 12,
      "outputs": [
        {
          "output_type": "execute_result",
          "data": {
            "text/plain": [
              "{1, 2}"
            ]
          },
          "metadata": {},
          "execution_count": 12
        }
      ]
    },
    {
      "cell_type": "markdown",
      "source": [
        "#**DICTIONARY {} :{'key1', 'value1'}  # mutable, no duplicates**\n"
      ],
      "metadata": {
        "id": "ekhnCCO307IE"
      }
    },
    {
      "cell_type": "markdown",
      "source": [
        "**The memory consumption depends on the number of key-value pairs. The memory consumption for an empty dictionary is around 240 bytes.**"
      ],
      "metadata": {
        "id": "hcG5O12d1gaZ"
      }
    },
    {
      "cell_type": "code",
      "source": [
        "H = {'Name': 'Abeer', 'City': 'Karachi'}\n",
        "print('Student name is:', H['Name'])\n",
        "print('Student city is:', H['City'])"
      ],
      "metadata": {
        "colab": {
          "base_uri": "https://localhost:8080/"
        },
        "id": "n1MQ45gV03t4",
        "outputId": "7d1999d4-67fd-4ff9-91ba-37178f261220"
      },
      "execution_count": 14,
      "outputs": [
        {
          "output_type": "stream",
          "name": "stdout",
          "text": [
            "Student name is: Abeer\n",
            "Student city is: Karachi\n"
          ]
        }
      ]
    }
  ]
}