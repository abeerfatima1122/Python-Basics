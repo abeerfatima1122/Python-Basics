{
  "nbformat": 4,
  "nbformat_minor": 0,
  "metadata": {
    "colab": {
      "provenance": []
    },
    "kernelspec": {
      "name": "python3",
      "display_name": "Python 3"
    },
    "language_info": {
      "name": "python"
    }
  },
  "cells": [
    {
      "cell_type": "markdown",
      "source": [
        "##**OPERATORS IN PYTHON: Operators is nothing but symbols that perform certain task**\n",
        "\n",
        "#####**HIGHER PRECEDENCE TO LOWER PRECEDENCE:-**\n",
        "\n",
        "** (exponential)\n",
        "\n",
        "*(multiplication)\n",
        "\n",
        "/ (division)\n",
        "\n",
        "// (floor division)\n",
        "\n",
        "% (modulus or remainder)\n",
        "\n",
        "+(addition)\n",
        "\n",
        "-(subtraction)"
      ],
      "metadata": {
        "id": "cM3hM4ZL2wQN"
      }
    },
    {
      "cell_type": "markdown",
      "source": [
        "#**(1) ARITHMETIC OPERATOR: (+,-,*,/,//,%,**) **"
      ],
      "metadata": {
        "id": "HCF_pUt54W_a"
      }
    },
    {
      "cell_type": "code",
      "execution_count": 1,
      "metadata": {
        "colab": {
          "base_uri": "https://localhost:8080/"
        },
        "id": "NUJvauGD2lsR",
        "outputId": "2bafefa5-ca0f-4506-c298-49332b328c62"
      },
      "outputs": [
        {
          "output_type": "stream",
          "name": "stdout",
          "text": [
            "15\n",
            "11\n",
            "26\n",
            "6.5\n",
            "6\n",
            "1\n",
            "169\n"
          ]
        }
      ],
      "source": [
        "a=13 ; b=2\n",
        "print (a+b)\n",
        "print (a-b)\n",
        "print (a*b)\n",
        "print (a/b)\n",
        "print (a//b)\n",
        "print (a%b)\n",
        "print (a**b)"
      ]
    },
    {
      "cell_type": "markdown",
      "source": [
        "#**(2) COMPARISON OPERATOR: (<,<=,>,>=,==,!=)**"
      ],
      "metadata": {
        "id": "A9Ne_Mu-41Z2"
      }
    },
    {
      "cell_type": "code",
      "source": [
        "a = 13 ; b = 2\n",
        "print (a < b)\n",
        "print (a <= b)\n",
        "print (a > b)\n",
        "print (a >= b)\n",
        "print (a == b)\n",
        "print (a != b)"
      ],
      "metadata": {
        "colab": {
          "base_uri": "https://localhost:8080/"
        },
        "id": "cD6ft2RQ4mAO",
        "outputId": "9b20322a-de23-4f24-a4df-b792ad69fd8b"
      },
      "execution_count": 2,
      "outputs": [
        {
          "output_type": "stream",
          "name": "stdout",
          "text": [
            "False\n",
            "False\n",
            "True\n",
            "True\n",
            "False\n",
            "True\n"
          ]
        }
      ]
    },
    {
      "cell_type": "markdown",
      "source": [
        "#**(3) LOGICAL OPERATOR: (and, or, not)**\n"
      ],
      "metadata": {
        "id": "hE15p3W55dpc"
      }
    },
    {
      "cell_type": "code",
      "source": [
        "a = 13\n",
        "b = 2\n",
        "print(a < b and a > b)\n",
        "print(a <= b or a < b)\n",
        "print(not (a < b))"
      ],
      "metadata": {
        "colab": {
          "base_uri": "https://localhost:8080/"
        },
        "id": "keq69n3Q46Tv",
        "outputId": "b287d554-2399-4e63-b75d-3921bf1ef997"
      },
      "execution_count": 3,
      "outputs": [
        {
          "output_type": "stream",
          "name": "stdout",
          "text": [
            "False\n",
            "False\n",
            "True\n"
          ]
        }
      ]
    },
    {
      "cell_type": "markdown",
      "source": [
        "#**BITWISE OPERATOR:**\n",
        "**(bitwise and, bitwise or, bitwise xor, bitwise complement, bitwise shift right, bitwise shift left)**"
      ],
      "metadata": {
        "id": "6FV1A0fH5tG6"
      }
    },
    {
      "cell_type": "markdown",
      "source": [
        "#**# bitwise and: (both 1 then 1, else 0)**"
      ],
      "metadata": {
        "id": "QZkC4rXK53ki"
      }
    },
    {
      "cell_type": "markdown",
      "source": [
        "1 : 0001\n",
        "\n",
        "2 : 0010\n",
        "\n",
        "3 : 0011\n",
        "\n",
        "4 : 0100\n",
        "\n",
        "5 : 0101\n",
        "\n",
        "6 : 0110\n",
        "\n",
        "7 : 0111\n",
        "\n",
        "8 : 1000\n",
        "\n",
        "9 : 1001\n",
        "\n",
        "A : 1010\n",
        "\n",
        "B : 1011\n",
        "\n",
        "\n",
        "C : 1100\n",
        "\n",
        "D : 1101\n",
        "\n",
        "E : 1110\n",
        "\n",
        "F : 1111\n"
      ],
      "metadata": {
        "id": "veNw2IyO6Lsh"
      }
    },
    {
      "cell_type": "markdown",
      "source": [
        "**bitwise and: (if any 1 then 1, else 0)**"
      ],
      "metadata": {
        "id": "vJ00nyAkAdes"
      }
    },
    {
      "cell_type": "code",
      "source": [
        "print(5 & 6)"
      ],
      "metadata": {
        "colab": {
          "base_uri": "https://localhost:8080/"
        },
        "id": "0OMuYPYN_6O8",
        "outputId": "dd3da9ba-5bf3-497d-c44b-178e90eb6a9d"
      },
      "execution_count": 7,
      "outputs": [
        {
          "output_type": "stream",
          "name": "stdout",
          "text": [
            "4\n"
          ]
        }
      ]
    },
    {
      "cell_type": "markdown",
      "source": [
        "**bitwise or: (if any 1 then 1, else 0)**"
      ],
      "metadata": {
        "id": "t68k1nNbAq6d"
      }
    },
    {
      "cell_type": "code",
      "source": [
        "print(5 | 6)"
      ],
      "metadata": {
        "colab": {
          "base_uri": "https://localhost:8080/"
        },
        "id": "4J3MBPnzAYYj",
        "outputId": "023e167f-588b-4fd8-d456-72f312475366"
      },
      "execution_count": 8,
      "outputs": [
        {
          "output_type": "stream",
          "name": "stdout",
          "text": [
            "7\n"
          ]
        }
      ]
    },
    {
      "cell_type": "markdown",
      "source": [
        "**bitwise xor: (if both same then 0, else 1)**"
      ],
      "metadata": {
        "id": "WBYJ0AwdA0oW"
      }
    },
    {
      "cell_type": "code",
      "source": [
        "print(5 ^ 6)"
      ],
      "metadata": {
        "colab": {
          "base_uri": "https://localhost:8080/"
        },
        "id": "aNWdEoh7An7J",
        "outputId": "1eadc58f-e6f2-4c97-c5ae-cb6624e5a80c"
      },
      "execution_count": 9,
      "outputs": [
        {
          "output_type": "stream",
          "name": "stdout",
          "text": [
            "3\n"
          ]
        }
      ]
    },
    {
      "cell_type": "markdown",
      "source": [
        "**bitwise complement: (formula: -sign + 1 digit)**"
      ],
      "metadata": {
        "id": "EJeTE_MMA7ET"
      }
    },
    {
      "cell_type": "code",
      "source": [
        "print(~6)"
      ],
      "metadata": {
        "colab": {
          "base_uri": "https://localhost:8080/"
        },
        "id": "Q7mtskDxAxkz",
        "outputId": "87eb8af2-1732-4c66-a866-4e5995c73985"
      },
      "execution_count": 10,
      "outputs": [
        {
          "output_type": "stream",
          "name": "stdout",
          "text": [
            "-7\n"
          ]
        }
      ]
    },
    {
      "cell_type": "code",
      "source": [
        "print(~7)"
      ],
      "metadata": {
        "colab": {
          "base_uri": "https://localhost:8080/"
        },
        "id": "Gl1hGCbvA6LO",
        "outputId": "ee2f3deb-8f84-41e7-9aed-b4b72a62463f"
      },
      "execution_count": 11,
      "outputs": [
        {
          "output_type": "stream",
          "name": "stdout",
          "text": [
            "-8\n"
          ]
        }
      ]
    },
    {
      "cell_type": "markdown",
      "source": [
        "**bitwise shift right: >>**\n"
      ],
      "metadata": {
        "id": "j6nROJOtB22r"
      }
    },
    {
      "cell_type": "code",
      "source": [
        "print(5 >> 1)"
      ],
      "metadata": {
        "colab": {
          "base_uri": "https://localhost:8080/"
        },
        "id": "ZzLSRkO0B3xB",
        "outputId": "2c27b031-4515-4ad3-bdda-c35c8bd32f27"
      },
      "execution_count": 12,
      "outputs": [
        {
          "output_type": "stream",
          "name": "stdout",
          "text": [
            "2\n"
          ]
        }
      ]
    },
    {
      "cell_type": "markdown",
      "source": [
        "**bitwise shift left: <<**"
      ],
      "metadata": {
        "id": "9p9zEHOPB9av"
      }
    },
    {
      "cell_type": "code",
      "source": [
        "print(5 << 1)"
      ],
      "metadata": {
        "colab": {
          "base_uri": "https://localhost:8080/"
        },
        "id": "_xPqbNY5CE1Z",
        "outputId": "1f151cbe-cd9d-440d-c084-b46f43d76ef5"
      },
      "execution_count": 13,
      "outputs": [
        {
          "output_type": "stream",
          "name": "stdout",
          "text": [
            "10\n"
          ]
        }
      ]
    },
    {
      "cell_type": "markdown",
      "source": [
        "#**Assignment Operator: =**"
      ],
      "metadata": {
        "id": "IMec5IMwDCTI"
      }
    },
    {
      "cell_type": "code",
      "source": [
        "a = 5\n",
        "print(a)"
      ],
      "metadata": {
        "colab": {
          "base_uri": "https://localhost:8080/"
        },
        "id": "jLcOtLWlDIc7",
        "outputId": "f222ae3e-8e56-4f85-f801-7f47004da993"
      },
      "execution_count": 14,
      "outputs": [
        {
          "output_type": "stream",
          "name": "stdout",
          "text": [
            "5\n"
          ]
        }
      ]
    },
    {
      "cell_type": "markdown",
      "source": [
        "#**Special operator: (is, is not)**"
      ],
      "metadata": {
        "id": "9bbNF8yNDZEJ"
      }
    },
    {
      "cell_type": "code",
      "source": [
        "a = 5\n",
        "b = 5\n",
        "print(a is b)"
      ],
      "metadata": {
        "colab": {
          "base_uri": "https://localhost:8080/"
        },
        "id": "NLDwBiQcDVqv",
        "outputId": "6138eeab-834d-4c2b-99db-1eb230785c2a"
      },
      "execution_count": 15,
      "outputs": [
        {
          "output_type": "stream",
          "name": "stdout",
          "text": [
            "True\n"
          ]
        }
      ]
    },
    {
      "cell_type": "code",
      "source": [
        "a = 5\n",
        "b = 5\n",
        "print(a is not b)"
      ],
      "metadata": {
        "colab": {
          "base_uri": "https://localhost:8080/"
        },
        "id": "iTLI_BSNDe40",
        "outputId": "f32c904f-bc0f-49b6-d797-991482063143"
      },
      "execution_count": 16,
      "outputs": [
        {
          "output_type": "stream",
          "name": "stdout",
          "text": [
            "False\n"
          ]
        }
      ]
    },
    {
      "cell_type": "markdown",
      "source": [
        "#**Membership Operator: (in, not in)**"
      ],
      "metadata": {
        "id": "GAmUzlEjDmCv"
      }
    },
    {
      "cell_type": "code",
      "source": [
        "v = 'Having a soft heart in this world is a big crime'\n",
        "print('world' in v)"
      ],
      "metadata": {
        "colab": {
          "base_uri": "https://localhost:8080/"
        },
        "id": "1ufS6d7kDico",
        "outputId": "ac5b8fda-3afc-46c8-dc20-02cc73e98716"
      },
      "execution_count": 17,
      "outputs": [
        {
          "output_type": "stream",
          "name": "stdout",
          "text": [
            "True\n"
          ]
        }
      ]
    },
    {
      "cell_type": "code",
      "source": [
        "v = 'Having a soft heart in this world is a big crime'\n",
        "print('hello' in v)"
      ],
      "metadata": {
        "colab": {
          "base_uri": "https://localhost:8080/"
        },
        "id": "wwFs1ZteFdPl",
        "outputId": "5361726f-383c-41e0-c225-5cca48a475dc"
      },
      "execution_count": 18,
      "outputs": [
        {
          "output_type": "stream",
          "name": "stdout",
          "text": [
            "False\n"
          ]
        }
      ]
    }
  ]
}