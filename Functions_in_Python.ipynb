{
  "nbformat": 4,
  "nbformat_minor": 0,
  "metadata": {
    "colab": {
      "provenance": []
    },
    "kernelspec": {
      "name": "python3",
      "display_name": "Python 3"
    },
    "language_info": {
      "name": "python"
    }
  },
  "cells": [
    {
      "cell_type": "markdown",
      "source": [
        "#**FUNCTIONS:**\n",
        "\n",
        "**(a) Pre-defined: (len, print, del, list)**\n",
        "\n",
        "**(b) user-defined: abeer()**\n",
        "\n",
        "#**(a) Pre-defined:-**"
      ],
      "metadata": {
        "id": "rtflC5-QPuFI"
      }
    },
    {
      "cell_type": "code",
      "source": [
        "print('This is a print function')\n",
        "print(len('something'))"
      ],
      "metadata": {
        "colab": {
          "base_uri": "https://localhost:8080/"
        },
        "id": "yt9IKtEsP66_",
        "outputId": "0fd502a6-bc6d-4bec-af07-6b9ce8e691d5"
      },
      "execution_count": 1,
      "outputs": [
        {
          "output_type": "stream",
          "name": "stdout",
          "text": [
            "This is a print function\n",
            "9\n"
          ]
        }
      ]
    },
    {
      "cell_type": "markdown",
      "source": [
        "#**(b) User-defined function :-**"
      ],
      "metadata": {
        "id": "3DUecPg0QPG_"
      }
    },
    {
      "cell_type": "code",
      "source": [
        "def calculator(a, b):\n",
        "    print('add:', a + b)\n",
        "    print('subtract:', a - b)\n",
        "    print('multiply:', a * b)\n",
        "    print('division:', a / b)\n",
        "\n",
        "calculator(8, 4)  # function call"
      ],
      "metadata": {
        "colab": {
          "base_uri": "https://localhost:8080/"
        },
        "id": "0V3ClSFRQAoo",
        "outputId": "e14bba0c-e8fb-48c1-89eb-e8cafda833e9"
      },
      "execution_count": 2,
      "outputs": [
        {
          "output_type": "stream",
          "name": "stdout",
          "text": [
            "add: 12\n",
            "subtract: 4\n",
            "multiply: 32\n",
            "division: 2.0\n"
          ]
        }
      ]
    },
    {
      "cell_type": "code",
      "source": [
        "def calculator(a, b):\n",
        "    print('add:', a + b)\n",
        "    print('subtract:', a - b)\n",
        "    print('multiply:', a * b)\n",
        "    print('division:', a / b)\n",
        "\n",
        "calculator(8, 4)  # function call\n",
        "calculator(10, 20)\n",
        "calculator(30, 40)\n",
        "calculator(2, 8)"
      ],
      "metadata": {
        "colab": {
          "base_uri": "https://localhost:8080/"
        },
        "id": "ZjA6iZdyRAsk",
        "outputId": "38fbaa69-90e8-42fd-e599-37e35df92d33"
      },
      "execution_count": 3,
      "outputs": [
        {
          "output_type": "stream",
          "name": "stdout",
          "text": [
            "add: 12\n",
            "subtract: 4\n",
            "multiply: 32\n",
            "division: 2.0\n",
            "add: 30\n",
            "subtract: -10\n",
            "multiply: 200\n",
            "division: 0.5\n",
            "add: 70\n",
            "subtract: -10\n",
            "multiply: 1200\n",
            "division: 0.75\n",
            "add: 10\n",
            "subtract: -6\n",
            "multiply: 16\n",
            "division: 0.25\n"
          ]
        }
      ]
    }
  ]
}