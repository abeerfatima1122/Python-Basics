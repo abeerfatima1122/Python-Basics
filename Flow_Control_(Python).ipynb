{
  "nbformat": 4,
  "nbformat_minor": 0,
  "metadata": {
    "colab": {
      "provenance": []
    },
    "kernelspec": {
      "name": "python3",
      "display_name": "Python 3"
    },
    "language_info": {
      "name": "python"
    }
  },
  "cells": [
    {
      "cell_type": "markdown",
      "source": [
        "#**FLOW CONTROL:**\n",
        "\n",
        "#**(1) Conditional Statements:**\n",
        "\n",
        "###**(a) if (b) if-else (c) elif**"
      ],
      "metadata": {
        "id": "E2HJQ_pDK5Nz"
      }
    },
    {
      "cell_type": "markdown",
      "source": [
        "#**(a) if :-**\n",
        "\n",
        "SYNTAX:-\n",
        "    if condition:\n",
        "        statement"
      ],
      "metadata": {
        "id": "i3fTtHhvLVls"
      }
    },
    {
      "cell_type": "code",
      "execution_count": null,
      "metadata": {
        "id": "adftlOLbKi8b"
      },
      "outputs": [],
      "source": [
        "a = int(input('Enter a Number:'))\n",
        "if a == 111:\n",
        "    print('Good job')"
      ]
    },
    {
      "cell_type": "markdown",
      "source": [
        "#**(b) else if :-**\n",
        "\n",
        "SYNTAX:-\n",
        "\n",
        "if condition:\n",
        "\n",
        "    statement\n",
        "\n",
        "else:\n",
        "\n",
        "    statement"
      ],
      "metadata": {
        "id": "BwJCr5tYL7el"
      }
    },
    {
      "cell_type": "code",
      "source": [
        "user_input = int(input('enter a number:'))\n",
        "if user_input % 2 == 0:\n",
        "    print('num is even')\n",
        "else:\n",
        "    print('num is odd')"
      ],
      "metadata": {
        "id": "iWdbdIK5LnZy"
      },
      "execution_count": null,
      "outputs": []
    },
    {
      "cell_type": "markdown",
      "source": [
        "#**(c) elif:-**\n",
        "SYNTAX:-\n",
        "\n",
        "if condition:\n",
        "\n",
        "    statement\n",
        "\n",
        "elif condition:\n",
        "\n",
        "    statement\n",
        "\n",
        "else:\n",
        "\n",
        "    statement"
      ],
      "metadata": {
        "id": "OTsgtCtoMh7k"
      }
    },
    {
      "cell_type": "code",
      "source": [
        "age = int(input('Enter your age:'))\n",
        "if age<18:\n",
        "    print('You are too young for PAF entry test')\n",
        "elif age>24:\n",
        "    print('Not Eligible')\n",
        "else:\n",
        "    print('Congratulations! you are eligible')"
      ],
      "metadata": {
        "id": "DNnXIQR6MIqb"
      },
      "execution_count": null,
      "outputs": []
    },
    {
      "cell_type": "markdown",
      "source": [
        "#**(2) ITERATIVE STATEMENT:-**\n",
        "**(a) for loop (b) while loop**\n",
        "\n",
        "SYNTAX:-\n",
        "\n",
        "var_name in range(start, end):\n",
        "\n",
        "    statement"
      ],
      "metadata": {
        "id": "CA8FZZRZNmIe"
      }
    },
    {
      "cell_type": "code",
      "source": [
        "user_input = int(input('enter a number:'))\n",
        "for number in range(1, 11):\n",
        "    print(user_input * number)"
      ],
      "metadata": {
        "id": "RYE13bvmNAN2"
      },
      "execution_count": null,
      "outputs": []
    },
    {
      "cell_type": "markdown",
      "source": [
        "**(b) while**"
      ],
      "metadata": {
        "id": "qsCq4kv0OZBD"
      }
    },
    {
      "cell_type": "code",
      "source": [
        "password = 'Abeer123'\n",
        "input_password = input('enter password:')\n",
        "while password != input_password:\n",
        "    input_password = input('enter password:')\n",
        "else:\n",
        "    print('UNLOCKED!!')\n"
      ],
      "metadata": {
        "id": "2WABWSkmOEwh"
      },
      "execution_count": null,
      "outputs": []
    }
  ]
}